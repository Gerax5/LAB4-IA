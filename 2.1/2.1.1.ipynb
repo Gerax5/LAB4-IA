{
 "cells": [
  {
   "cell_type": "markdown",
   "metadata": {},
   "source": [
    "# 2.1.1"
   ]
  },
  {
   "cell_type": "markdown",
   "metadata": {},
   "source": [
    "## importar librerias y dataset"
   ]
  },
  {
   "cell_type": "code",
   "execution_count": 56,
   "metadata": {},
   "outputs": [],
   "source": [
    "import pandas as pd\n",
    "import matplotlib.pyplot as plt\n",
    "import seaborn as sns\n",
    "from datetime import datetime\n",
    "from sklearn.preprocessing import MinMaxScaler\n",
    "import numpy as np"
   ]
  },
  {
   "cell_type": "markdown",
   "metadata": {},
   "source": [
    "## Exploración de datos"
   ]
  },
  {
   "cell_type": "code",
   "execution_count": 61,
   "metadata": {},
   "outputs": [],
   "source": [
    "df = pd.read_csv(\"./bank_transactions.csv\")"
   ]
  },
  {
   "cell_type": "code",
   "execution_count": 62,
   "metadata": {},
   "outputs": [],
   "source": [
    "# Elimina filas con al menos un valor nulo\n",
    "df = df.dropna(axis=0)"
   ]
  },
  {
   "cell_type": "code",
   "execution_count": 63,
   "metadata": {},
   "outputs": [
    {
     "data": {
      "image/png": "[encoded data removed]",
      "text/plain": [
       "<Figure size 640x480 with 1 Axes>"
      ]
     },
     "metadata": {},
     "output_type": "display_data"
    }
   ],
   "source": [
    "sns.countplot(x=df[\"CustGender\"])\n",
    "plt.title(\"Distribución de Género\")\n",
    "plt.show()"
   ]
  },
  {
   "cell_type": "code",
   "execution_count": 64,
   "metadata": {},
   "outputs": [
    {
     "data": {
      "text/plain": [
       "CustGender\n",
       "M    760978\n",
       "F    280635\n",
       "T         1\n",
       "Name: count, dtype: int64"
      ]
     },
     "execution_count": 64,
     "metadata": {},
     "output_type": "execute_result"
    }
   ],
   "source": [
    "df[\"CustGender\"].value_counts()"
   ]
  },
  {
   "cell_type": "code",
   "execution_count": 65,
   "metadata": {},
   "outputs": [],
   "source": [
    "# Quitar T porque solo tiene un valor y es insignificante\n",
    "df = df[df[\"CustGender\"] != \"T\"]\n",
    "\n",
    "# Balancear el dataset\n",
    "df_majority = df[df[\"CustGender\"] == \"M\"]\n",
    "df_minority = df[df[\"CustGender\"] == \"F\"]\n",
    "\n",
    "df_majority_sample = df_majority.sample(n=len(df_minority), random_state=42)\n",
    "\n",
    "df_balanced = pd.concat([df_majority_sample, df_minority])\n"
   ]
  },
  {
   "cell_type": "code",
   "execution_count": 66,
   "metadata": {},
   "outputs": [
    {
     "data": {
      "text/plain": [
       "CustGender\n",
       "M    280635\n",
       "F    280635\n",
       "Name: count, dtype: int64"
      ]
     },
     "execution_count": 66,
     "metadata": {},
     "output_type": "execute_result"
    }
   ],
   "source": [
    "df_balanced[\"CustGender\"].value_counts()"
   ]
  },
  {
   "cell_type": "code",
   "execution_count": 67,
   "metadata": {},
   "outputs": [
    {
     "name": "stderr",
     "output_type": "stream",
     "text": [
      "C:\\Users\\Gerax\\AppData\\Local\\Temp\\ipykernel_3780\\1309165656.py:2: UserWarning: Could not infer format, so each element will be parsed individually, falling back to `dateutil`. To ensure parsing is consistent and as-expected, please specify a format.\n",
      "  df_balanced[\"CustomerDOB\"] = pd.to_datetime(df_balanced[\"CustomerDOB\"], errors=\"coerce\")\n"
     ]
    }
   ],
   "source": [
    "# Calcular la edad\n",
    "df_balanced[\"CustomerDOB\"] = pd.to_datetime(df_balanced[\"CustomerDOB\"], errors=\"coerce\")\n",
    "current_year = datetime.now().year\n",
    "df_balanced[\"Age\"] = current_year - df_balanced[\"CustomerDOB\"].dt.year"
   ]
  },
  {
   "cell_type": "code",
   "execution_count": 69,
   "metadata": {},
   "outputs": [
    {
     "name": "stdout",
     "output_type": "stream",
     "text": [
      "         TransactionID  CustomerID  CustomerDOB  CustGender  CustLocation  \\\n",
      "483915           False       False        False       False         False   \n",
      "705277           False       False        False       False         False   \n",
      "425726           False       False        False       False         False   \n",
      "445514           False       False        False       False         False   \n",
      "275975           False       False        False       False         False   \n",
      "...                ...         ...          ...         ...           ...   \n",
      "1048549          False       False        False       False         False   \n",
      "1048552          False       False        False       False         False   \n",
      "1048556          False       False        False       False         False   \n",
      "1048557          False       False        False       False         False   \n",
      "1048558          False       False        False       False         False   \n",
      "\n",
      "         CustAccountBalance  TransactionDate  TransactionTime  \\\n",
      "483915                False            False            False   \n",
      "705277                False            False            False   \n",
      "425726                False            False            False   \n",
      "445514                False            False            False   \n",
      "275975                False            False            False   \n",
      "...                     ...              ...              ...   \n",
      "1048549               False            False            False   \n",
      "1048552               False            False            False   \n",
      "1048556               False            False            False   \n",
      "1048557               False            False            False   \n",
      "1048558               False            False            False   \n",
      "\n",
      "         TransactionAmount (INR)    Age  \n",
      "483915                     False  False  \n",
      "705277                     False  False  \n",
      "425726                     False  False  \n",
      "445514                     False  False  \n",
      "275975                     False  False  \n",
      "...                          ...    ...  \n",
      "1048549                    False  False  \n",
      "1048552                    False  False  \n",
      "1048556                    False  False  \n",
      "1048557                    False  False  \n",
      "1048558                    False  False  \n",
      "\n",
      "[561270 rows x 10 columns]\n",
      "[0, 0, 0, 0, 0, 0, 0, 0, 0, 0]\n"
     ]
    }
   ],
   "source": [
    "nulos = df_balanced.isnull()\n",
    "print(nulos)\n",
    "\n",
    "nulos_por_columna = df_balanced.isnull().sum()\n",
    "print(list(nulos_por_columna))"
   ]
  },
  {
   "cell_type": "markdown",
   "metadata": {},
   "source": [
    "## datos"
   ]
  },
  {
   "cell_type": "code",
   "execution_count": 78,
   "metadata": {},
   "outputs": [
    {
     "name": "stderr",
     "output_type": "stream",
     "text": [
      "C:\\Users\\Gerax\\AppData\\Local\\Temp\\ipykernel_3780\\2558727267.py:4: SettingWithCopyWarning: \n",
      "A value is trying to be set on a copy of a slice from a DataFrame.\n",
      "Try using .loc[row_indexer,col_indexer] = value instead\n",
      "\n",
      "See the caveats in the documentation: https://pandas.pydata.org/pandas-docs/stable/user_guide/indexing.html#returning-a-view-versus-a-copy\n",
      "  df_data[[\"Age\", \"CustAccountBalance\", \"TransactionAmount (INR)\"]] = scaler.fit_transform(df_data[[\"Age\", \"CustAccountBalance\", \"TransactionAmount (INR)\"]])\n",
      "C:\\Users\\Gerax\\AppData\\Local\\Temp\\ipykernel_3780\\2558727267.py:5: SettingWithCopyWarning: \n",
      "A value is trying to be set on a copy of a slice from a DataFrame.\n",
      "Try using .loc[row_indexer,col_indexer] = value instead\n",
      "\n",
      "See the caveats in the documentation: https://pandas.pydata.org/pandas-docs/stable/user_guide/indexing.html#returning-a-view-versus-a-copy\n",
      "  df_data[\"CustGender\"] = df_data[\"CustGender\"].map({\"M\": 0, \"F\": 1})\n"
     ]
    }
   ],
   "source": [
    "# Data para usar\n",
    "df_data = df_balanced[[\"Age\", \"CustAccountBalance\", \"CustGender\", \"TransactionAmount (INR)\"]]\n",
    "scaler = MinMaxScaler()\n",
    "df_data[[\"Age\", \"CustAccountBalance\", \"TransactionAmount (INR)\"]] = scaler.fit_transform(df_data[[\"Age\", \"CustAccountBalance\", \"TransactionAmount (INR)\"]])\n",
    "df_data[\"CustGender\"] = df_data[\"CustGender\"].map({\"M\": 0, \"F\": 1})"
   ]
  },
  {
   "cell_type": "markdown",
   "metadata": {},
   "source": [
    "## Modelo"
   ]
  },
  {
   "cell_type": "code",
   "execution_count": null,
   "metadata": {},
   "outputs": [],
   "source": [
    "class kMeans:\n",
    "    def __init__(self, k=2, max_iter=100, random_state=42, tol=1e-4):\n",
    "        self.k = k\n",
    "        self.max_iter = max_iter\n",
    "        self.random_state = random_state\n",
    "        self.tol = tol\n",
    "        self.centroids = None\n",
    "\n",
    "    def fit(self, X):\n",
    "        np.random.seed(self.random_state)\n",
    "\n",
    "        # Inicializar centroides aleatorios\n",
    "        random_indices = np.random.choice(len(X), self.k, replace=False)\n",
    "        self.centroids = X[random_indices]\n",
    "\n",
    "        for _ in range(self.max_iter):\n",
    "            # Asignar clusters a cada punto\n",
    "            clusters = self.assign_clusters(X)\n",
    "\n",
    "            # Calcular nuevos centroides\n",
    "            new_centroids = np.array([\n",
    "                # Si no hay puntos asignados a un cluster, no mover el centroide\n",
    "                X[clusters == i].mean(axis=0) if np.any(clusters == i) else self.centroids[i] \n",
    "                for i in range(self.k)\n",
    "            ])\n",
    "\n",
    "            # Si los centroides no cambian mucho, detener\n",
    "            if np.linalg.norm(self.centroids - new_centroids) < self.tol:\n",
    "                break\n",
    "\n",
    "            self.centroids = new_centroids\n",
    "\n",
    "    def assign_clusters(self, X):\n",
    "        distances = np.linalg.norm(X[:, np.newaxis] - self.centroids, axis=2)\n",
    "        return np.argmin(distances, axis=1)\n",
    "\n",
    "    def predict(self, X):\n",
    "        return self.assign_clusters(X)\n"
   ]
  },
  {
   "cell_type": "code",
   "execution_count": null,
   "metadata": {},
   "outputs": [
    {
     "data": {
      "image/png": "[encoded data removed]",
      "text/plain": [
       "<Figure size 800x500 with 1 Axes>"
      ]
     },
     "metadata": {},
     "output_type": "display_data"
    }
   ],
   "source": [
    "def elbow_method(X, max_k=10):\n",
    "    # Graficar el metodo del codo\n",
    "    inertias = []\n",
    "\n",
    "    for k in range(1, max_k+1):\n",
    "        model = kMeans(k=k)\n",
    "        model.fit(X)\n",
    "        clusters = model.assign_clusters(X)\n",
    "\n",
    "        inertia = sum(np.linalg.norm(X[clusters == i] - model.centroids[i])**2 for i in range(k))\n",
    "        inertias.append(inertia)\n",
    "\n",
    "    plt.figure(figsize=(8,5))\n",
    "    plt.plot(range(1, max_k+1), inertias, marker='o', linestyle='-')\n",
    "    plt.xlabel(\"Número de Clusters (k)\")\n",
    "    plt.ylabel(\"Inercia (Distancia a centroides)\")\n",
    "    plt.title(\"Método del Codo\")\n",
    "    plt.show()\n",
    "\n",
    "X = df_data.to_numpy()\n",
    "elbow_method(X)\n"
   ]
  },
  {
   "cell_type": "code",
   "execution_count": null,
   "metadata": {},
   "outputs": [],
   "source": [
    "# Aplicar K-Means con k=3\n",
    "k = 3\n",
    "model = kMeans(k=k)\n",
    "X = df_data.to_numpy()\n",
    "\n",
    "model.fit(X)\n",
    "clusters = model.assign_clusters(X)  # Obtener asignaciones de cluster\n"
   ]
  }
 ],
 "metadata": {
  "kernelspec": {
   "display_name": "Python 3",
   "language": "python",
   "name": "python3"
  },
  "language_info": {
   "codemirror_mode": {
    "name": "ipython",
    "version": 3
   },
   "file_extension": ".py",
   "mimetype": "text/x-python",
   "name": "python",
   "nbconvert_exporter": "python",
   "pygments_lexer": "ipython3",
   "version": "3.11.9"
  }
 },
 "nbformat": 4,
 "nbformat_minor": 2
}
