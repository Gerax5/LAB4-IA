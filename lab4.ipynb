{
 "cells": [
  {
   "cell_type": "markdown",
   "metadata": {},
   "source": [
    "Link de github: https://github.com/Gerax5/LAB4-IA "
   ]
  },
  {
   "cell_type": "markdown",
   "metadata": {},
   "source": [
    "# 1 - Preguntas teóricas\n",
    "\n",
    "## 1. Explique con sus propias palabras, qué son los grafos computaciones y cuál es su importancia para el cálculo de gradientes en aplicaciones como backpropagation\n",
    "Un grafo es una gráfica compuesta por nodos y aristas que representan la relación entre varios objetos. En backpropagation, estos permiten hacer funciones complejas más sencillas, aplicar regla de la cadena y optimizar parametros para evitar el sesgo, lo que los hace una herramienta importante. \n",
    "\n",
    "## 2. Detalle cuales son los componentes y pasos que conforman una red neuronal. Con esto en mente, ¿cómo mejoraría el perceptrón que hizo en el laboratorio pasado?\n",
    "Componentes:\n",
    "- Las entradas que son datos de imagenes y textos.\n",
    "- Capas ocultas que realizan operaciones no lineales.\n",
    "- Salidas que representan el resultado final.\n",
    "- Sesgo y peso que son parámetros que ajustan las conexiones entre neuronas.\n",
    "- Función de activación que permite la no linealidad.\n",
    "- Función de pérdida que mide el error entre las predicciones y los valores reales.\n",
    "- Optimización que ajusta los pesos y sesgos.\n",
    "\n",
    "Pasos:\n",
    "- Inicializar parámetros\n",
    "- Forward propagation\n",
    "- Cálculo de pérdida\n",
    "- Backpropagation\n",
    "- Actualización de parámetros\n",
    "- Iterar\n",
    "\n",
    "Para mejorar el perceptrón del laboratorio pasado lo convertiría en una red neuronal multicapa, normalizaría los datos de entrada, ajustaría los hiperparámetros y usaría funciones de activación no lineales.\n",
    "\n",
    "## 3. Investigue y explique cómo se selecciona el valor K usando el método de la silueta para el algoritmo de K-Means. Explique las fórmulas (ecuaciones) que lo componen así como las asumpciones, si hay.\n",
    "El método de la silueta evalúa la calidad de los clusters según que tan bien está cada punto dentro de su propio grupo. La ecuación se ve así:\n",
    "\n",
    "s(i) = (b(i) - a(i))/max(a(i), b(i))\n",
    "\n",
    "Aquí, a(i) representa la distancia promedio del punto i a todos los demás puntos en su mismo cluster y b(i) la distancia promedio del punto i al cluster más cercano al que no pertenezca.\n",
    "Si los valores se acercan más a 1 es porque están bien asignado, 0 es el límite del cluster y -1 es que están mal clasificados.\n",
    "Para que ayude a elegir K, se debe ejecutar el K-mean con diferentes valores de K y luego calcular el promedio de la silueta para cada uno de esos K. El K con el mayor valor promedio es el que debe ser utilizado.\n",
    "\n",
    "## 4. Investigue sobre Principal Component Analysis (PCA) y responda respecto a algoritmos como K-Means. ¿Cómo podría ayudarle a mejorar la calidad de sus clusters cuando se usa K-Means?\n",
    "PCA o analisis de componentes principales, por sus siglas en ingles, es el método de reducción de dimensionalidad que transforma datos a algo con menos dimensiones, conervando la mayor varianza posible.\n",
    "Este ayuda al K-means, pues ayuda a reducir el ruido, mejorar la separación de los cluster y aumenta la eficiencia general del programa. Por lo tanto, lo mejor es utilizar k-means después de hacer el PCA. \n",
    "\n"
   ]
  },
  {
   "cell_type": "markdown",
   "metadata": {},
   "source": []
  },
  {
   "cell_type": "markdown",
   "metadata": {},
   "source": [
    "# 2.1.1"
   ]
  },
  {
   "cell_type": "markdown",
   "metadata": {},
   "source": [
    "## importar librerias y dataset"
   ]
  },
  {
   "cell_type": "code",
   "execution_count": null,
   "metadata": {},
   "outputs": [],
   "source": [
    "import pandas as pd\n",
    "import matplotlib.pyplot as plt\n",
    "import seaborn as sns\n",
    "from datetime import datetime\n",
    "from sklearn.preprocessing import MinMaxScaler\n",
    "import numpy as np"
   ]
  },
  {
   "cell_type": "markdown",
   "metadata": {},
   "source": [
    "## Exploración de datos"
   ]
  },
  {
   "cell_type": "code",
   "execution_count": null,
   "metadata": {},
   "outputs": [],
   "source": [
    "df = pd.read_csv(\"./bank_transactions.csv\")"
   ]
  },
  {
   "cell_type": "code",
   "execution_count": null,
   "metadata": {},
   "outputs": [],
   "source": [
    "# Elimina filas con al menos un valor nulo\n",
    "df = df.dropna(axis=0)"
   ]
  },
  {
   "cell_type": "code",
   "execution_count": null,
   "metadata": {},
   "outputs": [
    {
     "data": {
      "image/png": "[encoded data removed]",
      "text/plain": [
       "<Figure size 640x480 with 1 Axes>"
      ]
     },
     "metadata": {},
     "output_type": "display_data"
    }
   ],
   "source": [
    "sns.countplot(x=df[\"CustGender\"])\n",
    "plt.title(\"Distribución de Género\")\n",
    "plt.show()"
   ]
  },
  {
   "cell_type": "code",
   "execution_count": null,
   "metadata": {},
   "outputs": [
    {
     "data": {
      "text/plain": [
       "CustGender\n",
       "M    760978\n",
       "F    280635\n",
       "T         1\n",
       "Name: count, dtype: int64"
      ]
     },
     "metadata": {},
     "output_type": "display_data"
    }
   ],
   "source": [
    "df[\"CustGender\"].value_counts()"
   ]
  },
  {
   "cell_type": "code",
   "execution_count": null,
   "metadata": {},
   "outputs": [],
   "source": [
    "# Quitar T porque solo tiene un valor y es insignificante\n",
    "df = df[df[\"CustGender\"] != \"T\"]\n",
    "\n",
    "# Balancear el dataset\n",
    "df_majority = df[df[\"CustGender\"] == \"M\"]\n",
    "df_minority = df[df[\"CustGender\"] == \"F\"]\n",
    "\n",
    "df_majority_sample = df_majority.sample(n=len(df_minority), random_state=42)\n",
    "\n",
    "df_balanced = pd.concat([df_majority_sample, df_minority])\n"
   ]
  },
  {
   "cell_type": "code",
   "execution_count": null,
   "metadata": {},
   "outputs": [
    {
     "data": {
      "text/plain": [
       "CustGender\n",
       "M    280635\n",
       "F    280635\n",
       "Name: count, dtype: int64"
      ]
     },
     "metadata": {},
     "output_type": "display_data"
    }
   ],
   "source": [
    "df_balanced[\"CustGender\"].value_counts()"
   ]
  },
  {
   "cell_type": "code",
   "execution_count": null,
   "metadata": {},
   "outputs": [
    {
     "name": "stderr",
     "output_type": "stream",
     "text": [
      "C:\\Users\\Francis\\AppData\\Local\\Temp\\ipykernel_24808\\1309165656.py:2: UserWarning: Could not infer format, so each element will be parsed individually, falling back to `dateutil`. To ensure parsing is consistent and as-expected, please specify a format.\n",
      "  df_balanced[\"CustomerDOB\"] = pd.to_datetime(df_balanced[\"CustomerDOB\"], errors=\"coerce\")\n"
     ]
    }
   ],
   "source": [
    "# Calcular la edad\n",
    "df_balanced[\"CustomerDOB\"] = pd.to_datetime(df_balanced[\"CustomerDOB\"], errors=\"coerce\")\n",
    "current_year = datetime.now().year\n",
    "df_balanced[\"Age\"] = current_year - df_balanced[\"CustomerDOB\"].dt.year"
   ]
  },
  {
   "cell_type": "code",
   "execution_count": null,
   "metadata": {},
   "outputs": [
    {
     "name": "stdout",
     "output_type": "stream",
     "text": [
      "         TransactionID  CustomerID  CustomerDOB  CustGender  CustLocation  \\\n",
      "483915           False       False        False       False         False   \n",
      "705277           False       False        False       False         False   \n",
      "425726           False       False        False       False         False   \n",
      "445514           False       False        False       False         False   \n",
      "275975           False       False        False       False         False   \n",
      "...                ...         ...          ...         ...           ...   \n",
      "1048549          False       False        False       False         False   \n",
      "1048552          False       False        False       False         False   \n",
      "1048556          False       False        False       False         False   \n",
      "1048557          False       False        False       False         False   \n",
      "1048558          False       False        False       False         False   \n",
      "\n",
      "         CustAccountBalance  TransactionDate  TransactionTime  \\\n",
      "483915                False            False            False   \n",
      "705277                False            False            False   \n",
      "425726                False            False            False   \n",
      "445514                False            False            False   \n",
      "275975                False            False            False   \n",
      "...                     ...              ...              ...   \n",
      "1048549               False            False            False   \n",
      "1048552               False            False            False   \n",
      "1048556               False            False            False   \n",
      "1048557               False            False            False   \n",
      "1048558               False            False            False   \n",
      "\n",
      "         TransactionAmount (INR)    Age  \n",
      "483915                     False  False  \n",
      "705277                     False  False  \n",
      "425726                     False  False  \n",
      "445514                     False  False  \n",
      "275975                     False  False  \n",
      "...                          ...    ...  \n",
      "1048549                    False  False  \n",
      "1048552                    False  False  \n",
      "1048556                    False  False  \n",
      "1048557                    False  False  \n",
      "1048558                    False  False  \n",
      "\n",
      "[561270 rows x 10 columns]\n",
      "[0, 0, 0, 0, 0, 0, 0, 0, 0, 0]\n"
     ]
    }
   ],
   "source": [
    "nulos = df_balanced.isnull()\n",
    "print(nulos)\n",
    "\n",
    "nulos_por_columna = df_balanced.isnull().sum()\n",
    "print(list(nulos_por_columna))"
   ]
  },
  {
   "cell_type": "markdown",
   "metadata": {},
   "source": [
    "## datos"
   ]
  },
  {
   "cell_type": "code",
   "execution_count": null,
   "metadata": {},
   "outputs": [
    {
     "name": "stderr",
     "output_type": "stream",
     "text": [
      "C:\\Users\\Francis\\AppData\\Local\\Temp\\ipykernel_24808\\1526078449.py:4: SettingWithCopyWarning: \n",
      "A value is trying to be set on a copy of a slice from a DataFrame.\n",
      "Try using .loc[row_indexer,col_indexer] = value instead\n",
      "\n",
      "See the caveats in the documentation: https://pandas.pydata.org/pandas-docs/stable/user_guide/indexing.html#returning-a-view-versus-a-copy\n",
      "  df_data[[\"Age\", \"CustAccountBalance\", \"TransactionAmount (INR)\"]] = scaler.fit_transform(df_data[[\"Age\", \"CustAccountBalance\", \"TransactionAmount (INR)\"]])\n"
     ]
    }
   ],
   "source": [
    "# Data para usar\n",
    "df_data = df_balanced[[\"Age\", \"CustAccountBalance\",  \"TransactionAmount (INR)\"]]\n",
    "scaler = MinMaxScaler()\n",
    "df_data[[\"Age\", \"CustAccountBalance\", \"TransactionAmount (INR)\"]] = scaler.fit_transform(df_data[[\"Age\", \"CustAccountBalance\", \"TransactionAmount (INR)\"]])"
   ]
  },
  {
   "cell_type": "markdown",
   "metadata": {},
   "source": [
    "## Modelo"
   ]
  },
  {
   "cell_type": "code",
   "execution_count": null,
   "metadata": {},
   "outputs": [],
   "source": [
    "class kMeans:\n",
    "    def __init__(self, k=2, max_iter=100, random_state=42, tol=1e-4):\n",
    "        self.k = k\n",
    "        self.max_iter = max_iter\n",
    "        self.random_state = random_state\n",
    "        self.tol = tol\n",
    "        self.centroids = None\n",
    "\n",
    "    def fit(self, X):\n",
    "        np.random.seed(self.random_state)\n",
    "\n",
    "        # Inicializar centroides aleatorios\n",
    "        random_indices = np.random.choice(len(X), self.k, replace=False)\n",
    "        self.centroids = X[random_indices]\n",
    "\n",
    "        for _ in range(self.max_iter):\n",
    "            # Asignar clusters a cada punto\n",
    "            clusters = self.assign_clusters(X)\n",
    "\n",
    "            # Calcular nuevos centroides\n",
    "            new_centroids = np.array([\n",
    "                # Si no hay puntos asignados a un cluster, no mover el centroide\n",
    "                X[clusters == i].mean(axis=0) if np.any(clusters == i) else self.centroids[i] \n",
    "                for i in range(self.k)\n",
    "            ])\n",
    "\n",
    "            # Si los centroides no cambian mucho, detener\n",
    "            if np.linalg.norm(self.centroids - new_centroids) < self.tol:\n",
    "                break\n",
    "\n",
    "            self.centroids = new_centroids\n",
    "\n",
    "    def assign_clusters(self, X):\n",
    "        distances = np.linalg.norm(X[:, np.newaxis] - self.centroids, axis=2)\n",
    "        return np.argmin(distances, axis=1)\n",
    "\n",
    "    def predict(self, X):\n",
    "        return self.assign_clusters(X)\n"
   ]
  },
  {
   "cell_type": "code",
   "execution_count": null,
   "metadata": {},
   "outputs": [
    {
     "data": {
      "image/png": "[encoded data removed]",
      "text/plain": [
       "<Figure size 800x500 with 1 Axes>"
      ]
     },
     "metadata": {},
     "output_type": "display_data"
    }
   ],
   "source": [
    "def elbow_method(X, max_k=10):\n",
    "    # Graficar el metodo del codo\n",
    "    inertias = []\n",
    "\n",
    "    for k in range(1, max_k+1):\n",
    "        model = kMeans(k=k)\n",
    "        model.fit(X)\n",
    "        clusters = model.assign_clusters(X)\n",
    "\n",
    "        inertia = sum(np.linalg.norm(X[clusters == i] - model.centroids[i])**2 for i in range(k))\n",
    "        inertias.append(inertia)\n",
    "\n",
    "    plt.figure(figsize=(8,5))\n",
    "    plt.plot(range(1, max_k+1), inertias, marker='o', linestyle='-')\n",
    "    plt.xlabel(\"Número de Clusters (k)\")\n",
    "    plt.ylabel(\"Inercia (Distancia a centroides)\")\n",
    "    plt.title(\"Método del Codo\")\n",
    "    plt.show()\n",
    "\n",
    "X = df_data.to_numpy()\n",
    "elbow_method(X)\n"
   ]
  },
  {
   "cell_type": "markdown",
   "metadata": {},
   "source": [
    "Se seleccionaron 3 clusters debido a la gráfica del codo. De esta forma podemos modelar de mejor manera los datos. "
   ]
  },
  {
   "cell_type": "code",
   "execution_count": null,
   "metadata": {},
   "outputs": [],
   "source": [
    "# Aplicar K-Means con k=3\n",
    "k = 3\n",
    "model = kMeans(k=k)\n",
    "X = df_data.to_numpy()\n",
    "\n",
    "model.fit(X)\n",
    "clusters = model.assign_clusters(X)  # Obtener asignaciones de cluster\n",
    "centroids = model.centroids\n",
    "\n"
   ]
  },
  {
   "cell_type": "code",
   "execution_count": null,
   "metadata": {},
   "outputs": [
    {
     "data": {
      "image/png": "[encoded data removed]",
      "text/plain": [
       "<Figure size 800x600 with 1 Axes>"
      ]
     },
     "metadata": {},
     "output_type": "display_data"
    }
   ],
   "source": [
    "# Mostrar\n",
    "\n",
    "# Visualizar clústeres\n",
    "plt.figure(figsize=(8, 6))\n",
    "\n",
    "for i in range(model.k):\n",
    "    plt.scatter(\n",
    "        X[clusters == i, 0],\n",
    "        X[clusters == i, 1],\n",
    "        label=f'Cluster {i+1}',\n",
    "        alpha=0.6\n",
    "    )\n",
    "\n",
    "# Dibujar centroides\n",
    "plt.scatter(\n",
    "    model.centroids[:, 0],\n",
    "    model.centroids[:, 1],\n",
    "    c='black',\n",
    "    marker='X',\n",
    "    s=100,\n",
    "    label='Centroides'\n",
    ")\n",
    "\n",
    "plt.title(f'K-Means Clustering (k={model.k})')\n",
    "plt.xlabel('Feature 1')\n",
    "plt.ylabel('Feature 2')\n",
    "plt.legend()\n",
    "plt.grid(True)\n",
    "plt.show()"
   ]
  },
  {
   "cell_type": "markdown",
   "metadata": {},
   "source": [
    "### Modelo con librerias "
   ]
  },
  {
   "cell_type": "code",
   "execution_count": null,
   "metadata": {},
   "outputs": [
    {
     "data": {
      "image/png": "[encoded data removed]",
      "text/plain": [
       "<Figure size 800x600 with 1 Axes>"
      ]
     },
     "metadata": {},
     "output_type": "display_data"
    }
   ],
   "source": [
    "import numpy as np\n",
    "import matplotlib.pyplot as plt\n",
    "from sklearn.cluster import KMeans\n",
    "\n",
    "\n",
    "k = 3\n",
    "modelK = KMeans(\n",
    "    n_clusters=k, \n",
    "    max_iter=100, \n",
    "    random_state=42, \n",
    "    tol=1e-4, \n",
    "    init='random',   # Inicializar centroides aleatoriamente\n",
    "    n_init=1         \n",
    ")\n",
    "\n",
    "np.random.seed(42)  # Para reproducibilidad\n",
    "sample_size = int(0.8 * len(X))  # 80% del total de los datos\n",
    "random_indices = np.random.choice(len(X), size=sample_size, replace=False)\n",
    "X_sample = X[random_indices]\n",
    "\n",
    "\n",
    "modelK.fit(X_sample)\n",
    "clustersLibrerias = modelK.labels_\n",
    "centroids = modelK.cluster_centers_\n",
    "\n",
    "# Visualizar clústeres\n",
    "plt.figure(figsize=(8, 6))\n",
    "\n",
    "# Dibujar puntos según su clúster\n",
    "for i in range(k):\n",
    "    plt.scatter(\n",
    "        X[clustersLibrerias == i, 0],\n",
    "        X[clustersLibrerias == i, 1],\n",
    "        label=f'Cluster {i+1}',\n",
    "        alpha=0.6\n",
    "    )\n",
    "\n",
    "# Dibujar centroides\n",
    "plt.scatter(\n",
    "    centroids[:, 0],\n",
    "    centroids[:, 1],\n",
    "    c='black',\n",
    "    marker='X',\n",
    "    s=100,\n",
    "    label='Centroides'\n",
    ")\n",
    "\n",
    "plt.title(f'K-Means Clustering (k={k})')\n",
    "plt.xlabel('Feature 1')\n",
    "plt.ylabel('Feature 2')\n",
    "plt.legend()\n",
    "plt.grid(True)\n",
    "plt.show()\n"
   ]
  },
  {
   "cell_type": "code",
   "execution_count": null,
   "metadata": {},
   "outputs": [
    {
     "name": "stdout",
     "output_type": "stream",
     "text": [
      "Índice de Silueta Modelo 1 con 20% de datos: 0.9216\n",
      "Índice de Silueta Modelo 2 con 20% de datos: 0.9216\n"
     ]
    }
   ],
   "source": [
    "import numpy as np\n",
    "from sklearn.metrics import silhouette_score\n",
    "from sklearn.cluster import KMeans\n",
    "\n",
    "\n",
    "# Seleccionar un 20% aleatorio de X\n",
    "np.random.seed(42)  # Para reproducibilidad\n",
    "sample_size = int(0.2 * len(X))  # 20% del total de los datos\n",
    "random_indices = np.random.choice(len(X), size=sample_size, replace=False)\n",
    "X_sample = X[random_indices]\n",
    "\n",
    "# Calcular el Índice de Silueta para Modelo 1 con el 20% de los datos\n",
    "silhouette_sklearn = silhouette_score(X_sample, clustersLibrerias[random_indices])\n",
    "print(f\"Índice de Silueta Modelo con libreria con 20% de datos: {silhouette_sklearn:.4f}\")\n",
    "\n",
    "# Calcular el Índice de Silueta para Modelo 2 con el 20% de los datos\n",
    "silhouette_custom = silhouette_score(X_sample, clusters[random_indices])\n",
    "print(f\"Índice de Silueta Modelo con algoritmo generado con 20% de datos: {silhouette_custom:.4f}\")\n",
    "\n",
    "\n"
   ]
  },
  {
   "cell_type": "markdown",
   "metadata": {},
   "source": [
    "El Índice de Silueta se calcula para evaluar la calidad del agrupamiento en función de la cohesión (qué tan cerca están los puntos dentro de un clúster) y la separación (qué tan bien separados están los clústeres entre sí).\n",
    "\n",
    "**Repita los pasos para entrenar su modelo, pero ahora usando librerías y compare los resultados. ¿Cuál implementación fue mejor? ¿Por qué? (Responda como parte de su Jupyter Notebook en una celda markdown)**   \n",
    "En este caso nos dió como resultado que ambos modelos se adaptaron de manera igual, puede que sea por la cantidad de datos o porque nuestro algoritmo funciona similar a la libreria. Las implementaciones en librerías como scikit-learn se benefician de optimizaciones avanzadas, manejo de casos especiales, inicialización más eficiente de los centroides y un enfoque robusto para la convergencia. "
   ]
  },
  {
   "cell_type": "markdown",
   "metadata": {},
   "source": [
    "---"
   ]
  },
  {
   "cell_type": "markdown",
   "metadata": {},
   "source": [
    "# 2.2 Mixture Modelos y Segmentación de Clientes de Banco "
   ]
  },
  {
   "cell_type": "markdown",
   "metadata": {},
   "source": [
    "Al igual que el task anterior, deberá construir un modelo basado en aprendizaje no supervisado para el dataset dado. \n",
    "Lo que se busca con este modelo es poder segmentar a clientes de una entidad bancaria para poder así tomar \n",
    "decisiones a nivel comercial y potenciar las operaciones de la empresa. Recuerden que: \n",
    "\n",
    "● Revisen la breve exploración de datos que hicieron previamente. No es necesario que lo repitan acá dado \n",
    "que ya lo hicieron antes y es el mismo dataset. Pero recuerden que: \n",
    "\n",
    "○ Deben seleccionar las variables para este modelo (si aplica) \n",
    "\n",
    "○ Tengan sus features escaladas \n",
    "\n",
    "● Recuerde definir de forma clara y razonada (es decir, diga el por qué de su elección) de una métrica de \n",
    "desempeño principal\n"
   ]
  },
  {
   "cell_type": "code",
   "execution_count": null,
   "metadata": {},
   "outputs": [],
   "source": [
    "#librerias\n",
    "import pandas as pd\n",
    "import matplotlib.pyplot as plt\n",
    "import seaborn as sns\n",
    "from datetime import datetime\n",
    "from sklearn.preprocessing import MinMaxScaler, StandardScaler\n",
    "import numpy as np\n",
    "from sklearn.cluster import KMeans\n",
    "from sklearn.metrics import silhouette_samples, silhouette_score\n",
    "from sklearn.mixture import GaussianMixture\n"
   ]
  },
  {
   "cell_type": "code",
   "execution_count": null,
   "metadata": {},
   "outputs": [],
   "source": [
    "#carga de datos\n",
    "df = pd.read_csv(\"./bank_transactions.csv\")"
   ]
  },
  {
   "cell_type": "code",
   "execution_count": null,
   "metadata": {},
   "outputs": [],
   "source": [
    "#exploracion de datos\n",
    "#mostrar las columanas\n",
    "print(\"\\n--Columnas:---\")\n",
    "print(list(df.columns))\n",
    "\n",
    "#resumen del set de datos\n",
    "print(\"\\n--Resumen del set de datos:--\")\n",
    "print(df.describe())"
   ]
  },
  {
   "cell_type": "code",
   "execution_count": null,
   "metadata": {},
   "outputs": [],
   "source": [
    "#obtener el tipo de datos\n",
    "print(\"\\n----Tipo de datos:---\")\n",
    "print(df.dtypes)\n",
    "tipos_de_datos = df.dtypes.value_counts()\n",
    "print('resumen:')\n",
    "print(tipos_de_datos)"
   ]
  },
  {
   "cell_type": "markdown",
   "metadata": {},
   "source": [
    "### Variables\n",
    "\n",
    "TransactionID           : id de la transacción\n",
    "\n",
    "CustomerID              : id del customer\n",
    "\n",
    "CustomerDOB             : fecha de nacimiento del customer\n",
    "\n",
    "CustGender              : género del cliente\n",
    "\n",
    "CustLocation            : ubicacion del cliente\n",
    "\n",
    "CustAccountBalance      : saldo de la cuenta del cliente\n",
    "\n",
    "TransactionDate         : fecha de la transacción\n",
    "\n",
    "TransactionTime         : hora de la transacción\n",
    "\n",
    "TransactionAmount (INR) : monto de la transacción en rupias indias.\n"
   ]
  },
  {
   "cell_type": "code",
   "execution_count": null,
   "metadata": {},
   "outputs": [],
   "source": [
    "# Buscando valores nulls\n",
    "print(\"- - - - - - - VALORES NULLS - - - - - - -\")\n",
    "nulos = df.isnull()\n",
    "print(nulos)\n",
    "\n",
    "nulos_por_columna = df.isnull().sum()\n",
    "print(list(nulos_por_columna))"
   ]
  },
  {
   "cell_type": "code",
   "execution_count": null,
   "metadata": {},
   "outputs": [],
   "source": [
    "# Elimina filas con al menos un valor nulo\n",
    "df = df.dropna(axis=0)"
   ]
  },
  {
   "cell_type": "code",
   "execution_count": null,
   "metadata": {},
   "outputs": [],
   "source": [
    "df[\"CustGender\"].value_counts()"
   ]
  },
  {
   "cell_type": "code",
   "execution_count": null,
   "metadata": {},
   "outputs": [],
   "source": [
    "# Quitar T porque solo tiene un valor y es insignificante\n",
    "df = df[df[\"CustGender\"] != \"T\"]\n",
    "\n",
    "# Balancear el dataset\n",
    "df_majority = df[df[\"CustGender\"] == \"M\"]\n",
    "df_minority = df[df[\"CustGender\"] == \"F\"]\n",
    "\n",
    "df_majority_sample = df_majority.sample(n=len(df_minority), random_state=42)\n",
    "\n",
    "df_balanced = pd.concat([df_majority_sample, df_minority])\n",
    "\n",
    "df_balanced[\"CustGender\"].value_counts()"
   ]
  },
  {
   "cell_type": "code",
   "execution_count": null,
   "metadata": {},
   "outputs": [],
   "source": [
    "# Calcular la edad\n",
    "df_balanced[\"CustomerDOB\"] = pd.to_datetime(df_balanced[\"CustomerDOB\"], errors=\"coerce\")\n",
    "current_year = datetime.now().year\n",
    "df_balanced[\"Age\"] = current_year - df_balanced[\"CustomerDOB\"].dt.year"
   ]
  },
  {
   "cell_type": "markdown",
   "metadata": {},
   "source": [
    "Objetivo: segmentar a clientes de una entidad bancaria para poder tomar desiciones a nivel comercial y potenciar las operaciones de la empresa.\n",
    "\n",
    "Seleccionar las variables para el modelo:\n",
    "- Age\n",
    "- CustGender\n",
    "- CustAccountBalance\n",
    "- Transaction Amount (INR)\n",
    "\n",
    "variables que podrian servir, pero en este caso no se usaran: \n",
    "- CustomerID\n",
    "- CustLocation\n",
    "- TransactionDate\n",
    "- TransactionTime\n"
   ]
  },
  {
   "cell_type": "code",
   "execution_count": null,
   "metadata": {},
   "outputs": [],
   "source": [
    "# Data para usar\n",
    "df_data = df_balanced[[\"Age\", \"CustAccountBalance\", \"CustGender\", \"TransactionAmount (INR)\"]].copy()\n",
    "\n",
    "df_data[[\"Age\", \"CustAccountBalance\", \"TransactionAmount (INR)\"]] = df_data[[\"Age\", \"CustAccountBalance\", \"TransactionAmount (INR)\"]].astype(float)\n",
    "scaler = MinMaxScaler()\n",
    "\n",
    "# Normalizar los datos\n",
    "df_data.loc[:,[\"Age\", \"CustAccountBalance\", \"TransactionAmount (INR)\"]] = scaler.fit_transform(df_data[[\"Age\", \"CustAccountBalance\", \"TransactionAmount (INR)\"]])\n",
    "df_data.loc[:,\"CustGender\"] = df_data[\"CustGender\"].map({\"M\": 0, \"F\": 1})"
   ]
  },
  {
   "cell_type": "markdown",
   "metadata": {},
   "source": [
    "-------------\n",
    "## 2.2.1 con liberias"
   ]
  },
  {
   "cell_type": "code",
   "execution_count": null,
   "metadata": {},
   "outputs": [],
   "source": [
    "#saber el numero de K clusters\n",
    "numeroClusters = range(1,11)\n",
    "wcss = []\n",
    "\n",
    "for i in numeroClusters:\n",
    "    kmeans = KMeans(n_clusters=i)\n",
    "    kmeans.fit(df_data)\n",
    "    wcss.append(kmeans.inertia_)\n",
    "\n",
    "plt.plot(numeroClusters, wcss, marker='o')\n",
    "plt.xticks(numeroClusters)\n",
    "plt.xlabel(\"K clusters\")\n",
    "plt.ylabel(\"WSS\")\n",
    "plt.title(\"Gráfico de Codo\")\n",
    "plt.show()"
   ]
  },
  {
   "cell_type": "markdown",
   "metadata": {},
   "source": [
    "En el grafico del codo, nos indica que k=2 es un buen numero para los datos, ya que la suma de wss disminuye rapidamente hasta los 2 clusters y luego se vuelve gradual."
   ]
  },
  {
   "cell_type": "code",
   "execution_count": null,
   "metadata": {},
   "outputs": [],
   "source": [
    "#modelo de mixture models para segmentar a los clientes en la cantidad de grupos decidida.\n",
    "from sklearn.mixture import GaussianMixture\n",
    "from matplotlib.patches import Ellipse\n",
    "import matplotlib.transforms as transforms\n",
    "\n",
    "\n",
    "n = 2\n",
    "#crear y ajustar el modelo de mixture models\n",
    "gmm = GaussianMixture(n_components=n, random_state=42)\n",
    "gmm.fit(df_data)\n",
    "\n",
    "#predecir los clusters para cada punto de datos\n",
    "df_data[\"Cluster\"] = gmm.predict(df_data)\n",
    "\n",
    "centroides = gmm.means_\n",
    "covarianza = gmm.covariances_\n",
    "# print(covarianza)\n",
    "\n",
    "#funcion de elipse de  covarianza para los clusters\n",
    "def plot_cov_ellipse(cov, pos, nstd=2, ax=None, **kwargs):\n",
    "    \n",
    "    def eigsorted(cov):\n",
    "        vals, vecs = np.linalg.eigh(cov)\n",
    "        order = vals.argsort()[::-1]\n",
    "        return vals[order], vecs[:,order]\n",
    "\n",
    "    if ax is None:\n",
    "        ax = plt.gca()\n",
    "\n",
    "    vals, vecs = eigsorted(cov)\n",
    "    theta = np.degrees(np.arctan2(*vecs[:,0][::-1]))\n",
    "    width, height = 2 * nstd * np.sqrt(vals)\n",
    "    ellip = Ellipse(xy=pos, width=width, height=height, angle=theta, **kwargs)\n",
    "\n",
    "    ax.add_patch(ellip)\n",
    "    return ellip\n",
    "\n"
   ]
  },
  {
   "cell_type": "code",
   "execution_count": null,
   "metadata": {},
   "outputs": [],
   "source": [
    "# visualizar los clusters \n",
    "plt.figure(figsize=(10, 6))\n",
    "sns.scatterplot(x='Age', y='TransactionAmount (INR)', hue='Cluster', data=df_data, palette='viridis')\n",
    "plt.scatter(centroides[:, 0], centroides[:, 3], c='red', s=300, label='centroides', marker='x')\n",
    "for i in range(n):\n",
    "    cov_matrix = covarianza[i][np.ix_([0, 3], [0, 3])]\n",
    "    centroid_pos = centroides[i, [0, 3]]  # posicion del centroide de 'Age' y 'TransactionAmount (INR)'\n",
    "    plot_cov_ellipse(cov_matrix, centroid_pos, nstd=2, alpha=0.5, edgecolor='red')\n",
    "plt.title('clusters de clientes')\n",
    "plt.xlabel('edad')\n",
    "plt.ylabel('monto de la transaccion (INR)')\n",
    "plt.legend()\n",
    "plt.show()\n",
    "\n",
    "print(df_data.columns)\n",
    "\n",
    "plt.figure(figsize=(10, 6))\n",
    "sns.scatterplot(x='CustAccountBalance', y='TransactionAmount (INR)', hue='Cluster', data=df_data, palette='viridis')\n",
    "plt.scatter(centroides[:, 1], centroides[:, 3], c='red', s=300, label='Centroides', marker='x')\n",
    "for i in range(n):\n",
    "    print(f\"Cluster {i}:\" )\n",
    "    cov_matrix = covarianza[i][np.ix_([1, 3], [1, 3])]  # posiciones de CustAccountBalance y TransactionAmount (INR)\n",
    "    centroid_pos = centroides[i, [1, 3]]  # posicion del centroide de CustAccountBalance y 'TransactionAmount (INR)\n",
    "    print(cov_matrix)\n",
    "    print(centroid_pos)\n",
    "    plot_cov_ellipse(cov_matrix, centroid_pos, nstd=2, alpha=0.8, edgecolor='red')\n",
    "\n",
    "plt.title('clusters de Clientes')\n",
    "plt.xlabel('saldo de la cuenta del cliente')\n",
    "plt.ylabel('monto de la transaccion (INR)')\n",
    "plt.legend()\n",
    "plt.show()"
   ]
  },
  {
   "cell_type": "markdown",
   "metadata": {},
   "source": [
    "En el segundo gráfico se ve como si solo hubiera 1 centroide, pero como se ve en sus datos de cada cluster estan bastante cerca, por lo tanto no se ve el otro centroide."
   ]
  },
  {
   "cell_type": "markdown",
   "metadata": {},
   "source": [
    "#### PCA"
   ]
  },
  {
   "cell_type": "code",
   "execution_count": null,
   "metadata": {},
   "outputs": [],
   "source": [
    "from sklearn.decomposition import PCA\n",
    "\n",
    "#reducir la dimensionalidad a 2D usando PCA\n",
    "pca = PCA(n_components=2)\n",
    "df_pca = pca.fit_transform(df_data.drop(columns=['Cluster', 'PCA1', 'PCA2']))\n",
    "\n",
    "#poner los resultados en el df\n",
    "df_data['PCA1'] = df_pca[:, 0]\n",
    "df_data['PCA2'] = df_pca[:, 1]\n",
    "\n",
    "# recalcular los centroieds para pca\n",
    "centroides_pca = pca.transform(centroides)\n",
    "# recalcular la covarianza para pca\n",
    "covarianza_pca = np.array([pca.components_ @ cov @ pca.components_.T for cov in covarianza])\n",
    "\n",
    "\n",
    "plt.figure(figsize=(10, 6))\n",
    "sns.scatterplot(x='PCA1', y='PCA2', hue='Cluster', data=df_data, palette='viridis')\n",
    "plt.scatter(centroides_pca[:, 0], centroides_pca[:, 1], s=300, c='red', label='Centroides', marker='X')\n",
    "for i in range(n):\n",
    "    cov_matrix = covarianza_pca[i]\n",
    "    centroid_pos = centroides_pca[i]\n",
    "    plot_cov_ellipse(cov_matrix, centroid_pos, nstd=2, alpha=0.5, edgecolor='red')\n",
    "plt.title('Clusters de Clientes con PCA')\n",
    "plt.xlabel('PCA1')\n",
    "plt.ylabel('PCA2')\n",
    "plt.legend()\n",
    "plt.show()\n",
    "\n"
   ]
  },
  {
   "cell_type": "markdown",
   "metadata": {},
   "source": [
    "PCA definitivamente ayudo a mejorar los clusters, notandose la diferencia entre ambos. Esto es porque PCA es un metodo estadistico para transformar las caracteristicas originales de un conjunto de datos a un nuevo conjunto de caracteristicas con componentes principales. Entonces, estos componentes principales son combinaciones lineales de las variables originales y tienen las caracteristicas de: maximizar la varianza y la ortogonalidad. De esta forma, facilitando la vizualización de los datos y identificacion de patrones, clusters y relaciones que no se ve en el espacio original porque tiene una mayor dimension."
   ]
  },
  {
   "cell_type": "markdown",
   "metadata": {},
   "source": [
    "Metrica de desempeño"
   ]
  },
  {
   "cell_type": "code",
   "execution_count": null,
   "metadata": {},
   "outputs": [],
   "source": [
    "from sklearn.datasets import make_blobs\n",
    "from sklearn.metrics import silhouette_samples, silhouette_score\n",
    "import matplotlib.cm as cm\n",
    "\n",
    "# muestra de datos\n",
    "df_sample = df_data.sample(frac=0.1, random_state=42)\n",
    "\n",
    "#silhouette Score\n",
    "silhouette_avg = silhouette_score(df_sample.drop(columns=['Cluster']), df_sample['Cluster'])\n",
    "print(f\"Silhouette Score Promedio: {silhouette_avg}\")\n",
    "#silhouette Score para cada punto\n",
    "sample_silhouette_values = silhouette_samples(df_sample.drop(columns=['Cluster']), df_sample['Cluster'])\n",
    "\n",
    "\n",
    "fig, ax1 = plt.subplots(figsize=(10, 6))\n",
    "#rango\n",
    "ax1.set_xlim([-0.1, 1])\n",
    "ax1.set_ylim([0, len(df_sample) + (n + 1) * 10]) #tamaño\n",
    "\n",
    "y_lower = 10\n",
    "for i in range(n):\n",
    "    ith_cluster_silhouette_values = sample_silhouette_values[df_sample['Cluster'] == i]\n",
    "    ith_cluster_silhouette_values.sort()\n",
    "\n",
    "    size_cluster_i = ith_cluster_silhouette_values.shape[0]\n",
    "    y_upper = y_lower + size_cluster_i\n",
    "\n",
    "    color = cm.nipy_spectral(float(i) / n)\n",
    "    ax1.fill_betweenx(np.arange(y_lower, y_upper),\n",
    "                      0, ith_cluster_silhouette_values,\n",
    "                      facecolor=color, edgecolor=color, alpha=0.7)\n",
    "\n",
    "    ax1.text(-0.05, y_lower + 0.5 * size_cluster_i, str(i))\n",
    "\n",
    "    y_lower = y_upper + 10\n",
    "\n",
    "ax1.set_title(\"Gráfico de Silhouette para los clusters\")\n",
    "ax1.set_xlabel(\"Valores del Silhouette\")\n",
    "ax1.set_ylabel(\"Cluster\")\n",
    "\n",
    "# linea para ver el promedio\n",
    "ax1.axvline(x=silhouette_avg, color=\"red\", linestyle=\"--\")\n",
    "\n",
    "plt.show()\n",
    "\n"
   ]
  },
  {
   "cell_type": "markdown",
   "metadata": {},
   "source": [
    "Como se puede ver en la gráfica y el resultado del promedio que es cercano a 1, esto nos indica que los puntos estan bien agrupados dentro de sus propios clusters y que están bien separados entre sí."
   ]
  },
  {
   "cell_type": "markdown",
   "metadata": {},
   "source": [
    "-------------\n",
    "## 2.2.1 con liberias"
   ]
  },
  {
   "cell_type": "code",
   "execution_count": null,
   "metadata": {},
   "outputs": [],
   "source": [
    "import pandas as pd\n",
    "import matplotlib.pyplot as plt\n",
    "from scipy.stats import multivariate_normal\n",
    "from sklearn.preprocessing import StandardScaler\n",
    "from sklearn.decomposition import PCA\n",
    "from sklearn.metrics import silhouette_score\n"
   ]
  },
  {
   "cell_type": "code",
   "execution_count": null,
   "metadata": {},
   "outputs": [],
   "source": [
    "def load_data(file_path):\n",
    "    df = pd.read_csv(file_path)\n",
    "    df = df[['CustAccountBalance', 'TransactionAmount (INR)']]\n",
    "    df.replace([np.inf, -np.inf], np.nan, inplace=True)\n",
    "    df.dropna(inplace=True)\n",
    "    return df\n"
   ]
  },
  {
   "cell_type": "code",
   "execution_count": null,
   "metadata": {},
   "outputs": [],
   "source": [
    "\n",
    "def initialize_parameters(X, k):\n",
    "    n, d = X.shape\n",
    "    np.random.seed(42)\n",
    "    means = X[np.random.choice(n, k, replace=False)]\n",
    "    covariances = [np.eye(d) for _ in range(k)]\n",
    "    weights = np.ones(k) / k\n",
    "    return means, covariances, weights\n"
   ]
  },
  {
   "cell_type": "code",
   "execution_count": null,
   "metadata": {},
   "outputs": [],
   "source": [
    "\n",
    "def e_step(X, means, covariances, weights):\n",
    "    k = len(weights)\n",
    "    responsibilities = np.zeros((X.shape[0], k))\n",
    "    for i in range(k):\n",
    "        try:\n",
    "            responsibilities[:, i] = weights[i] * multivariate_normal.pdf(X, mean=means[i], cov=covariances[i], allow_singular=True)\n",
    "        except Exception as e:\n",
    "            print(f\"Error en la distribución normal multivariada: {e}\")\n",
    "            print(f\"Covarianza del cluster {i}:\\n{covariances[i]}\")\n",
    "    responsibilities_sum = responsibilities.sum(axis=1, keepdims=True)\n",
    "    responsibilities_sum[responsibilities_sum == 0] = 1e-6 \n",
    "    responsibilities /= responsibilities_sum\n",
    "    return responsibilities\n"
   ]
  },
  {
   "cell_type": "code",
   "execution_count": null,
   "metadata": {},
   "outputs": [],
   "source": [
    "\n",
    "def m_step(X, responsibilities):\n",
    "    k = responsibilities.shape[1]\n",
    "    n, d = X.shape\n",
    "    Nk = responsibilities.sum(axis=0)\n",
    "    means = np.dot(responsibilities.T, X) / Nk[:, None]\n",
    "    covariances = []\n",
    "    for i in range(k):\n",
    "        diff = X - means[i]\n",
    "        cov = np.dot(responsibilities[:, i] * diff.T, diff) / Nk[i]\n",
    "        cov += np.eye(d) * 1e-6\n",
    "        covariances.append(cov)\n",
    "    weights = Nk / n\n",
    "    return means, covariances, weights\n"
   ]
  },
  {
   "cell_type": "code",
   "execution_count": null,
   "metadata": {},
   "outputs": [],
   "source": [
    "\n",
    "def gmm(X, k, max_iters=50, tol=1e-4, verbose=True):\n",
    "    means, covariances, weights = initialize_parameters(X, k)\n",
    "    for iteration in range(max_iters):\n",
    "        if verbose:\n",
    "            print(f\"Iteración {iteration+1}/{max_iters}\")\n",
    "        responsibilities = e_step(X, means, covariances, weights)\n",
    "        new_means, new_covariances, new_weights = m_step(X, responsibilities)\n",
    "        if np.linalg.norm(new_means - means) < tol:\n",
    "            if verbose:\n",
    "                print(\"Convergencia alcanzada.\")\n",
    "            break\n",
    "        means, covariances, weights = new_means, new_covariances, new_weights\n",
    "    return means, covariances, weights, responsibilities"
   ]
  },
  {
   "cell_type": "code",
   "execution_count": null,
   "metadata": {},
   "outputs": [],
   "source": [
    "\n",
    "def plot_clusters(X, responsibilities, means, covariances, k):\n",
    "    colors = ['r', 'g', 'b', 'y', 'c']\n",
    "    labels = np.argmax(responsibilities, axis=1)\n",
    "    plt.figure(figsize=(8, 6))\n",
    "    for i in range(k):\n",
    "        cluster_points = X[labels == i]\n",
    "        plt.scatter(cluster_points[:, 0], cluster_points[:, 1], s=15, color=colors[i], alpha=0.5, label=f'Cluster {i}')\n",
    "        eigvals, eigvecs = np.linalg.eigh(covariances[i])\n",
    "        theta = np.degrees(np.arctan2(*eigvecs[:, 0][::-1]))\n",
    "        ell = plt.matplotlib.patches.Ellipse(means[i], 2*np.sqrt(eigvals[0]), 2*np.sqrt(eigvals[1]), angle=theta, edgecolor=colors[i], facecolor='none')\n",
    "        plt.gca().add_patch(ell)\n",
    "    plt.xlabel('Feature 1')\n",
    "    plt.ylabel('Feature 2')\n",
    "    plt.legend()\n",
    "    plt.title('Clusters con GMM')\n",
    "    plt.show()\n",
    "\n"
   ]
  },
  {
   "cell_type": "code",
   "execution_count": null,
   "metadata": {},
   "outputs": [
    {
     "name": "stdout",
     "output_type": "stream",
     "text": [
      "Iteración 1/50\n",
      "Iteración 2/50\n",
      "Iteración 3/50\n",
      "Iteración 4/50\n",
      "Iteración 5/50\n",
      "Iteración 6/50\n",
      "Iteración 7/50\n",
      "Iteración 8/50\n",
      "Iteración 9/50\n",
      "Iteración 10/50\n",
      "Iteración 11/50\n",
      "Iteración 12/50\n",
      "Iteración 13/50\n",
      "Iteración 14/50\n",
      "Iteración 15/50\n",
      "Iteración 16/50\n",
      "Iteración 17/50\n",
      "Iteración 18/50\n",
      "Iteración 19/50\n",
      "Iteración 20/50\n",
      "Iteración 21/50\n",
      "Iteración 22/50\n",
      "Iteración 23/50\n",
      "Iteración 24/50\n",
      "Iteración 25/50\n",
      "Iteración 26/50\n",
      "Iteración 27/50\n",
      "Iteración 28/50\n",
      "Iteración 29/50\n",
      "Iteración 30/50\n",
      "Iteración 31/50\n",
      "Iteración 32/50\n",
      "Iteración 33/50\n",
      "Iteración 34/50\n",
      "Iteración 35/50\n",
      "Iteración 36/50\n",
      "Iteración 37/50\n",
      "Iteración 38/50\n",
      "Iteración 39/50\n",
      "Iteración 40/50\n",
      "Iteración 41/50\n",
      "Iteración 42/50\n",
      "Iteración 43/50\n",
      "Iteración 44/50\n",
      "Iteración 45/50\n",
      "Iteración 46/50\n",
      "Iteración 47/50\n",
      "Iteración 48/50\n",
      "Iteración 49/50\n",
      "Iteración 50/50\n",
      "Silhouette Score: 0.3860\n"
     ]
    },
    {
     "data": {
      "image/png": "[encoded data removed]",
      "text/plain": [
       "<Figure size 800x600 with 1 Axes>"
      ]
     },
     "metadata": {},
     "output_type": "display_data"
    }
   ],
   "source": [
    "\n",
    "\n",
    "df = load_data('bank_transactions.csv')\n",
    "scaler = StandardScaler()\n",
    "X_scaled = scaler.fit_transform(df.values)\n",
    "\n",
    "if np.isnan(X_scaled).any():\n",
    "    raise ValueError(\"Datos contienen NaN después del escalado.\")\n",
    "\n",
    "pca = PCA(n_components=2)\n",
    "X_pca = pca.fit_transform(X_scaled)\n",
    "\n",
    "if np.isnan(X_pca).any():\n",
    "    raise ValueError(\"Datos contienen NaN después de PCA.\")\n",
    "\n",
    "k = 3\n",
    "means, covariances, weights, responsibilities = gmm(X_pca, k, verbose=True)\n",
    "\n",
    "sample_size = min(5000, len(X_pca))\n",
    "labels = np.argmax(responsibilities, axis=1)\n",
    "silhouette = silhouette_score(X_pca, labels, sample_size=sample_size)\n",
    "print(f'Silhouette Score: {silhouette:.4f}')\n",
    "\n",
    "plot_clusters(X_pca, responsibilities, means, covariances, k)\n"
   ]
  },
  {
   "cell_type": "markdown",
   "metadata": {},
   "source": [
    "#### ¿Podría PCA ayudarle a mejorar sus clusters? ¿Por qué?\n",
    "\n",
    "Sí, **PCA puede mejorar los clusters** porque reduce la dimensionalidad manteniendo la mayor variabilidad de los datos, lo que ayuda a eliminar ruido y redundancias. Esto facilita la separación de los grupos y mejora la convergencia del modelo GMM. Además, permite una mejor visualización en 2D y puede mejorar la calidad del clustering, reflejado en métricas como el **Silhouette Score**."
   ]
  },
  {
   "cell_type": "markdown",
   "metadata": {},
   "source": [
    "#### Muestre al menos una gráfica que muestre cómo se dividen los clusters seleccionados\n",
    " * Seleccione dos features, justifique su elección"
   ]
  },
  {
   "cell_type": "markdown",
   "metadata": {},
   "source": [
    "Para visualizar la división de los clusters, generamos una gráfica utilizando **PCA** para reducir la dimensionalidad a dos componentes principales, que capturan la mayor variabilidad del dataset. Elegimos estas dos features transformadas porque permiten una mejor separación visual de los clusters sin depender de combinaciones arbitrarias de variables originales. La gráfica muestra los puntos de datos coloreados según sus clusters y las elipses de covarianza para representar la distribución gaussiana de cada grupo, facilitando la interpretación del modelo GMM."
   ]
  },
  {
   "cell_type": "markdown",
   "metadata": {},
   "source": [
    "#### Provea una métrica de desempeño, justificando su elección\n"
   ]
  },
  {
   "cell_type": "markdown",
   "metadata": {},
   "source": [
    "Para evaluar el desempeño del clustering, utilizamos el **Silhouette Score**, una métrica que mide la separación y cohesión de los clusters. Esta métrica fue elegida porque permite evaluar qué tan bien están agrupados los puntos sin necesidad de etiquetas, algo esencial en problemas de aprendizaje no supervisado."
   ]
  }
 ],
 "metadata": {
  "kernelspec": {
   "display_name": "Python 3",
   "language": "python",
   "name": "python3"
  },
  "language_info": {
   "name": "python",
   "version": "3.12.9"
  }
 },
 "nbformat": 4,
 "nbformat_minor": 2
}
